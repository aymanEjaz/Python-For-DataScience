{
 "cells": [
  {
   "cell_type": "markdown",
   "id": "37cbefcd",
   "metadata": {},
   "source": [
    "## rename() function"
   ]
  },
  {
   "cell_type": "markdown",
   "id": "1a792c86",
   "metadata": {},
   "source": [
    "In Pandas, the `rename()` function is used to change the names of columns or index labels in a DataFrame. It allows you to rename specific columns or index labels to make your data more understandable or to align with your analysis needs. Here's all about the `rename()` function in Pandas:\n",
    "\n",
    "1. **Renaming Columns**:\n",
    "   To rename columns in a DataFrame, you can use the `rename()` function and pass a dictionary with the current column names as keys and the desired new names as values:\n",
    "\n",
    "   ```python\n",
    "   import pandas as pd\n",
    "\n",
    "   # Creating a DataFrame\n",
    "   data = {\n",
    "       'Old_Name_1': [1, 2, 3],\n",
    "       'Old_Name_2': [4, 5, 6],\n",
    "   }\n",
    "   df = pd.DataFrame(data)\n",
    "\n",
    "   # Rename columns using the rename() function\n",
    "   df.rename(columns={'Old_Name_1': 'New_Name_1', 'Old_Name_2': 'New_Name_2'}, inplace=True)\n",
    "   ```\n",
    "\n",
    "   The `inplace=True` parameter modifies the DataFrame in place, without the need to assign it back to a variable. If `inplace=False` or not specified, a new DataFrame with the renamed columns will be returned.\n",
    "\n",
    "2. **Renaming Index Labels**:\n",
    "   Similar to renaming columns, you can rename index labels using the `rename()` function and the `index` parameter:\n",
    "\n",
    "   ```python\n",
    "   # Creating a DataFrame with custom index labels\n",
    "   data = {\n",
    "       'Column1': [10, 20, 30],\n",
    "       'Column2': [40, 50, 60],\n",
    "   }\n",
    "   df = pd.DataFrame(data, index=['Row1', 'Row2', 'Row3'])\n",
    "\n",
    "   # Rename index labels using the rename() function\n",
    "   df.rename(index={'Row1': 'New_Row1', 'Row2': 'New_Row2', 'Row3': 'New_Row3'}, inplace=True)\n",
    "   ```\n",
    "\n",
    "   As with column renaming, you can use `inplace=True` to modify the DataFrame in place, or `inplace=False` (or not specified) to return a new DataFrame with the renamed index labels.\n",
    "\n",
    "3. **Renaming Both Columns and Index Labels**:\n",
    "   You can rename both columns and index labels simultaneously by using both `columns` and `index` parameters:\n",
    "\n",
    "   ```python\n",
    "   # Rename both columns and index labels\n",
    "   df.rename(columns={'Old_Name_1': 'New_Name_1', 'Old_Name_2': 'New_Name_2'},\n",
    "             index={'Row1': 'New_Row1', 'Row2': 'New_Row2', 'Row3': 'New_Row3'}, inplace=True)\n",
    "   ```\n",
    "\n",
    "4. **Renaming with a Function**:\n",
    "   Instead of providing a dictionary for renaming, you can also use a function to transform the column or index labels:\n",
    "\n",
    "   ```python\n",
    "   # Rename columns using a function\n",
    "   df.rename(columns=lambda x: x.upper(), inplace=True)\n",
    "   ```\n",
    "\n",
    "   In this example, we use the `upper()` method to change all column names to uppercase.\n",
    "\n",
    "5. **Handling Duplicate Names**:\n",
    "   If you want to rename multiple columns to the same name, you need to set the `inplace` parameter to `False`, as you cannot have duplicate column names in a DataFrame:\n",
    "\n",
    "   ```python\n",
    "   # Renaming multiple columns to the same name\n",
    "   df.rename(columns={'Old_Name_1': 'Common_Name', 'Old_Name_2': 'Common_Name'}, inplace=False)\n",
    "   ```\n",
    "\n",
    "The `rename()` function in Pandas is a versatile tool that allows you to modify column names, index labels, or both, making your data more meaningful and easier to work with during data analysis."
   ]
  },
  {
   "cell_type": "code",
   "execution_count": 3,
   "id": "fa8fe758",
   "metadata": {},
   "outputs": [],
   "source": [
    "import pandas as pd"
   ]
  },
  {
   "cell_type": "markdown",
   "id": "c67b60de",
   "metadata": {},
   "source": [
    "### Renaming Columns:"
   ]
  },
  {
   "cell_type": "code",
   "execution_count": 5,
   "id": "5041c1f4",
   "metadata": {},
   "outputs": [
    {
     "data": {
      "text/html": [
       "<div>\n",
       "<style scoped>\n",
       "    .dataframe tbody tr th:only-of-type {\n",
       "        vertical-align: middle;\n",
       "    }\n",
       "\n",
       "    .dataframe tbody tr th {\n",
       "        vertical-align: top;\n",
       "    }\n",
       "\n",
       "    .dataframe thead th {\n",
       "        text-align: right;\n",
       "    }\n",
       "</style>\n",
       "<table border=\"1\" class=\"dataframe\">\n",
       "  <thead>\n",
       "    <tr style=\"text-align: right;\">\n",
       "      <th></th>\n",
       "      <th>Old_Name_1</th>\n",
       "      <th>Old_Name_2</th>\n",
       "    </tr>\n",
       "  </thead>\n",
       "  <tbody>\n",
       "    <tr>\n",
       "      <th>0</th>\n",
       "      <td>1</td>\n",
       "      <td>4</td>\n",
       "    </tr>\n",
       "    <tr>\n",
       "      <th>1</th>\n",
       "      <td>2</td>\n",
       "      <td>5</td>\n",
       "    </tr>\n",
       "    <tr>\n",
       "      <th>2</th>\n",
       "      <td>3</td>\n",
       "      <td>6</td>\n",
       "    </tr>\n",
       "  </tbody>\n",
       "</table>\n",
       "</div>"
      ],
      "text/plain": [
       "   Old_Name_1  Old_Name_2\n",
       "0           1           4\n",
       "1           2           5\n",
       "2           3           6"
      ]
     },
     "execution_count": 5,
     "metadata": {},
     "output_type": "execute_result"
    }
   ],
   "source": [
    "# Creating a DataFrame\n",
    "data = {\n",
    "    'Old_Name_1': [1, 2, 3],\n",
    "    'Old_Name_2': [4, 5, 6],\n",
    "}\n",
    "df = pd.DataFrame(data)\n",
    "df"
   ]
  },
  {
   "cell_type": "code",
   "execution_count": 8,
   "id": "c29a80d1",
   "metadata": {},
   "outputs": [
    {
     "data": {
      "text/html": [
       "<div>\n",
       "<style scoped>\n",
       "    .dataframe tbody tr th:only-of-type {\n",
       "        vertical-align: middle;\n",
       "    }\n",
       "\n",
       "    .dataframe tbody tr th {\n",
       "        vertical-align: top;\n",
       "    }\n",
       "\n",
       "    .dataframe thead th {\n",
       "        text-align: right;\n",
       "    }\n",
       "</style>\n",
       "<table border=\"1\" class=\"dataframe\">\n",
       "  <thead>\n",
       "    <tr style=\"text-align: right;\">\n",
       "      <th></th>\n",
       "      <th>New_Name_1</th>\n",
       "      <th>New_Name_2</th>\n",
       "    </tr>\n",
       "  </thead>\n",
       "  <tbody>\n",
       "    <tr>\n",
       "      <th>0</th>\n",
       "      <td>1</td>\n",
       "      <td>4</td>\n",
       "    </tr>\n",
       "    <tr>\n",
       "      <th>1</th>\n",
       "      <td>2</td>\n",
       "      <td>5</td>\n",
       "    </tr>\n",
       "    <tr>\n",
       "      <th>2</th>\n",
       "      <td>3</td>\n",
       "      <td>6</td>\n",
       "    </tr>\n",
       "  </tbody>\n",
       "</table>\n",
       "</div>"
      ],
      "text/plain": [
       "   New_Name_1  New_Name_2\n",
       "0           1           4\n",
       "1           2           5\n",
       "2           3           6"
      ]
     },
     "execution_count": 8,
     "metadata": {},
     "output_type": "execute_result"
    }
   ],
   "source": [
    "# Rename columns using the rename() function\n",
    "df.rename(columns={'Old_Name_1': 'New_Name_1', 'Old_Name_2': 'New_Name_2'}, inplace=True)\n",
    "df"
   ]
  },
  {
   "cell_type": "markdown",
   "id": "7b3911dd",
   "metadata": {},
   "source": [
    "### Renaming Index Labels:"
   ]
  },
  {
   "cell_type": "code",
   "execution_count": 10,
   "id": "85eba45d",
   "metadata": {},
   "outputs": [
    {
     "data": {
      "text/html": [
       "<div>\n",
       "<style scoped>\n",
       "    .dataframe tbody tr th:only-of-type {\n",
       "        vertical-align: middle;\n",
       "    }\n",
       "\n",
       "    .dataframe tbody tr th {\n",
       "        vertical-align: top;\n",
       "    }\n",
       "\n",
       "    .dataframe thead th {\n",
       "        text-align: right;\n",
       "    }\n",
       "</style>\n",
       "<table border=\"1\" class=\"dataframe\">\n",
       "  <thead>\n",
       "    <tr style=\"text-align: right;\">\n",
       "      <th></th>\n",
       "      <th>Column1</th>\n",
       "      <th>Column2</th>\n",
       "    </tr>\n",
       "  </thead>\n",
       "  <tbody>\n",
       "    <tr>\n",
       "      <th>Row1</th>\n",
       "      <td>10</td>\n",
       "      <td>40</td>\n",
       "    </tr>\n",
       "    <tr>\n",
       "      <th>Row2</th>\n",
       "      <td>20</td>\n",
       "      <td>50</td>\n",
       "    </tr>\n",
       "    <tr>\n",
       "      <th>Row3</th>\n",
       "      <td>30</td>\n",
       "      <td>60</td>\n",
       "    </tr>\n",
       "  </tbody>\n",
       "</table>\n",
       "</div>"
      ],
      "text/plain": [
       "      Column1  Column2\n",
       "Row1       10       40\n",
       "Row2       20       50\n",
       "Row3       30       60"
      ]
     },
     "execution_count": 10,
     "metadata": {},
     "output_type": "execute_result"
    }
   ],
   "source": [
    "# Creating a DataFrame with custom index labels\n",
    "data = {\n",
    "    'Column1': [10, 20, 30],\n",
    "    'Column2': [40, 50, 60],\n",
    "}\n",
    "df = pd.DataFrame(data, index=['Row1', 'Row2', 'Row3'])\n",
    "df"
   ]
  },
  {
   "cell_type": "code",
   "execution_count": 11,
   "id": "c162436a",
   "metadata": {},
   "outputs": [
    {
     "data": {
      "text/html": [
       "<div>\n",
       "<style scoped>\n",
       "    .dataframe tbody tr th:only-of-type {\n",
       "        vertical-align: middle;\n",
       "    }\n",
       "\n",
       "    .dataframe tbody tr th {\n",
       "        vertical-align: top;\n",
       "    }\n",
       "\n",
       "    .dataframe thead th {\n",
       "        text-align: right;\n",
       "    }\n",
       "</style>\n",
       "<table border=\"1\" class=\"dataframe\">\n",
       "  <thead>\n",
       "    <tr style=\"text-align: right;\">\n",
       "      <th></th>\n",
       "      <th>Column1</th>\n",
       "      <th>Column2</th>\n",
       "    </tr>\n",
       "  </thead>\n",
       "  <tbody>\n",
       "    <tr>\n",
       "      <th>New_Row1</th>\n",
       "      <td>10</td>\n",
       "      <td>40</td>\n",
       "    </tr>\n",
       "    <tr>\n",
       "      <th>New_Row2</th>\n",
       "      <td>20</td>\n",
       "      <td>50</td>\n",
       "    </tr>\n",
       "    <tr>\n",
       "      <th>New_Row3</th>\n",
       "      <td>30</td>\n",
       "      <td>60</td>\n",
       "    </tr>\n",
       "  </tbody>\n",
       "</table>\n",
       "</div>"
      ],
      "text/plain": [
       "          Column1  Column2\n",
       "New_Row1       10       40\n",
       "New_Row2       20       50\n",
       "New_Row3       30       60"
      ]
     },
     "execution_count": 11,
     "metadata": {},
     "output_type": "execute_result"
    }
   ],
   "source": [
    "# Rename index labels using the rename() function\n",
    "df.rename(index={'Row1': 'New_Row1', 'Row2': 'New_Row2', 'Row3': 'New_Row3'}, inplace=True)\n",
    "df"
   ]
  },
  {
   "cell_type": "markdown",
   "id": "0db4b4f5",
   "metadata": {},
   "source": [
    "### Renaming Both Columns and Index Labels:"
   ]
  },
  {
   "cell_type": "code",
   "execution_count": 13,
   "id": "f602b512",
   "metadata": {},
   "outputs": [
    {
     "data": {
      "text/html": [
       "<div>\n",
       "<style scoped>\n",
       "    .dataframe tbody tr th:only-of-type {\n",
       "        vertical-align: middle;\n",
       "    }\n",
       "\n",
       "    .dataframe tbody tr th {\n",
       "        vertical-align: top;\n",
       "    }\n",
       "\n",
       "    .dataframe thead th {\n",
       "        text-align: right;\n",
       "    }\n",
       "</style>\n",
       "<table border=\"1\" class=\"dataframe\">\n",
       "  <thead>\n",
       "    <tr style=\"text-align: right;\">\n",
       "      <th></th>\n",
       "      <th>Column1</th>\n",
       "      <th>Column2</th>\n",
       "    </tr>\n",
       "  </thead>\n",
       "  <tbody>\n",
       "    <tr>\n",
       "      <th>New_Row1</th>\n",
       "      <td>10</td>\n",
       "      <td>40</td>\n",
       "    </tr>\n",
       "    <tr>\n",
       "      <th>New_Row2</th>\n",
       "      <td>20</td>\n",
       "      <td>50</td>\n",
       "    </tr>\n",
       "    <tr>\n",
       "      <th>New_Row3</th>\n",
       "      <td>30</td>\n",
       "      <td>60</td>\n",
       "    </tr>\n",
       "  </tbody>\n",
       "</table>\n",
       "</div>"
      ],
      "text/plain": [
       "          Column1  Column2\n",
       "New_Row1       10       40\n",
       "New_Row2       20       50\n",
       "New_Row3       30       60"
      ]
     },
     "execution_count": 13,
     "metadata": {},
     "output_type": "execute_result"
    }
   ],
   "source": [
    "# we can rename both columns and index labels simultaneously by using both columns and index parameters:\n",
    "\n",
    "# Rename both columns and index labels\n",
    "df.rename(columns={'Old_Name_1': 'New_Name_1', 'Old_Name_2': 'New_Name_2'},\n",
    "          index={'Row1': 'New_Row1', 'Row2': 'New_Row2', 'Row3': 'New_Row3'}, inplace=True)\n",
    "df"
   ]
  },
  {
   "cell_type": "code",
   "execution_count": 14,
   "id": "169ea282",
   "metadata": {},
   "outputs": [
    {
     "data": {
      "text/html": [
       "<div>\n",
       "<style scoped>\n",
       "    .dataframe tbody tr th:only-of-type {\n",
       "        vertical-align: middle;\n",
       "    }\n",
       "\n",
       "    .dataframe tbody tr th {\n",
       "        vertical-align: top;\n",
       "    }\n",
       "\n",
       "    .dataframe thead th {\n",
       "        text-align: right;\n",
       "    }\n",
       "</style>\n",
       "<table border=\"1\" class=\"dataframe\">\n",
       "  <thead>\n",
       "    <tr style=\"text-align: right;\">\n",
       "      <th></th>\n",
       "      <th>New_Name_11</th>\n",
       "      <th>New_Name_22</th>\n",
       "    </tr>\n",
       "  </thead>\n",
       "  <tbody>\n",
       "    <tr>\n",
       "      <th>NewRow11</th>\n",
       "      <td>10</td>\n",
       "      <td>40</td>\n",
       "    </tr>\n",
       "    <tr>\n",
       "      <th>NewRow22</th>\n",
       "      <td>20</td>\n",
       "      <td>50</td>\n",
       "    </tr>\n",
       "    <tr>\n",
       "      <th>NewRow33</th>\n",
       "      <td>30</td>\n",
       "      <td>60</td>\n",
       "    </tr>\n",
       "  </tbody>\n",
       "</table>\n",
       "</div>"
      ],
      "text/plain": [
       "          New_Name_11  New_Name_22\n",
       "NewRow11           10           40\n",
       "NewRow22           20           50\n",
       "NewRow33           30           60"
      ]
     },
     "execution_count": 14,
     "metadata": {},
     "output_type": "execute_result"
    }
   ],
   "source": [
    "# we can rename both columns and index labels simultaneously by using both columns and index parameters:\n",
    "\n",
    "# Rename both columns and index labels\n",
    "df.rename(columns={'Column1': 'New_Name_11', 'Column2': 'New_Name_22'},\n",
    "          index={'New_Row1': 'NewRow11', 'New_Row2': 'NewRow22', 'New_Row3': 'NewRow33'}, inplace=True)\n",
    "df"
   ]
  },
  {
   "cell_type": "markdown",
   "id": "d48ed781",
   "metadata": {},
   "source": [
    "### Renaming with a Function"
   ]
  },
  {
   "cell_type": "code",
   "execution_count": 16,
   "id": "90ae01fc",
   "metadata": {},
   "outputs": [
    {
     "data": {
      "text/html": [
       "<div>\n",
       "<style scoped>\n",
       "    .dataframe tbody tr th:only-of-type {\n",
       "        vertical-align: middle;\n",
       "    }\n",
       "\n",
       "    .dataframe tbody tr th {\n",
       "        vertical-align: top;\n",
       "    }\n",
       "\n",
       "    .dataframe thead th {\n",
       "        text-align: right;\n",
       "    }\n",
       "</style>\n",
       "<table border=\"1\" class=\"dataframe\">\n",
       "  <thead>\n",
       "    <tr style=\"text-align: right;\">\n",
       "      <th></th>\n",
       "      <th>NEW_NAME_11</th>\n",
       "      <th>NEW_NAME_22</th>\n",
       "    </tr>\n",
       "  </thead>\n",
       "  <tbody>\n",
       "    <tr>\n",
       "      <th>NewRow11</th>\n",
       "      <td>10</td>\n",
       "      <td>40</td>\n",
       "    </tr>\n",
       "    <tr>\n",
       "      <th>NewRow22</th>\n",
       "      <td>20</td>\n",
       "      <td>50</td>\n",
       "    </tr>\n",
       "    <tr>\n",
       "      <th>NewRow33</th>\n",
       "      <td>30</td>\n",
       "      <td>60</td>\n",
       "    </tr>\n",
       "  </tbody>\n",
       "</table>\n",
       "</div>"
      ],
      "text/plain": [
       "          NEW_NAME_11  NEW_NAME_22\n",
       "NewRow11           10           40\n",
       "NewRow22           20           50\n",
       "NewRow33           30           60"
      ]
     },
     "execution_count": 16,
     "metadata": {},
     "output_type": "execute_result"
    }
   ],
   "source": [
    "# Instead of providing a dictionary for renaming, you can also use a function to transform the column or index labels:\n",
    "\n",
    "# Rename columns using a function\n",
    "df.rename(columns=lambda x: x.upper(), inplace=True)\n",
    "df"
   ]
  },
  {
   "cell_type": "code",
   "execution_count": 17,
   "id": "0bc7f12c",
   "metadata": {},
   "outputs": [
    {
     "data": {
      "text/html": [
       "<div>\n",
       "<style scoped>\n",
       "    .dataframe tbody tr th:only-of-type {\n",
       "        vertical-align: middle;\n",
       "    }\n",
       "\n",
       "    .dataframe tbody tr th {\n",
       "        vertical-align: top;\n",
       "    }\n",
       "\n",
       "    .dataframe thead th {\n",
       "        text-align: right;\n",
       "    }\n",
       "</style>\n",
       "<table border=\"1\" class=\"dataframe\">\n",
       "  <thead>\n",
       "    <tr style=\"text-align: right;\">\n",
       "      <th></th>\n",
       "      <th>NEW_NAME_11</th>\n",
       "      <th>NEW_NAME_22</th>\n",
       "    </tr>\n",
       "  </thead>\n",
       "  <tbody>\n",
       "    <tr>\n",
       "      <th>NewRow11</th>\n",
       "      <td>10</td>\n",
       "      <td>40</td>\n",
       "    </tr>\n",
       "    <tr>\n",
       "      <th>NewRow22</th>\n",
       "      <td>20</td>\n",
       "      <td>50</td>\n",
       "    </tr>\n",
       "    <tr>\n",
       "      <th>NewRow33</th>\n",
       "      <td>30</td>\n",
       "      <td>60</td>\n",
       "    </tr>\n",
       "  </tbody>\n",
       "</table>\n",
       "</div>"
      ],
      "text/plain": [
       "          NEW_NAME_11  NEW_NAME_22\n",
       "NewRow11           10           40\n",
       "NewRow22           20           50\n",
       "NewRow33           30           60"
      ]
     },
     "execution_count": 17,
     "metadata": {},
     "output_type": "execute_result"
    }
   ],
   "source": [
    "# Rename columns using a function\n",
    "df.rename(columns=lambda y: y.upper(), inplace=True)\n",
    "df"
   ]
  },
  {
   "cell_type": "markdown",
   "id": "1acc9124",
   "metadata": {},
   "source": [
    "### Handling Duplicate Names:"
   ]
  },
  {
   "cell_type": "code",
   "execution_count": 19,
   "id": "19fbaae6",
   "metadata": {},
   "outputs": [
    {
     "data": {
      "text/html": [
       "<div>\n",
       "<style scoped>\n",
       "    .dataframe tbody tr th:only-of-type {\n",
       "        vertical-align: middle;\n",
       "    }\n",
       "\n",
       "    .dataframe tbody tr th {\n",
       "        vertical-align: top;\n",
       "    }\n",
       "\n",
       "    .dataframe thead th {\n",
       "        text-align: right;\n",
       "    }\n",
       "</style>\n",
       "<table border=\"1\" class=\"dataframe\">\n",
       "  <thead>\n",
       "    <tr style=\"text-align: right;\">\n",
       "      <th></th>\n",
       "      <th>NEW_NAME_11</th>\n",
       "      <th>NEW_NAME_22</th>\n",
       "    </tr>\n",
       "  </thead>\n",
       "  <tbody>\n",
       "    <tr>\n",
       "      <th>NewRow11</th>\n",
       "      <td>10</td>\n",
       "      <td>40</td>\n",
       "    </tr>\n",
       "    <tr>\n",
       "      <th>NewRow22</th>\n",
       "      <td>20</td>\n",
       "      <td>50</td>\n",
       "    </tr>\n",
       "    <tr>\n",
       "      <th>NewRow33</th>\n",
       "      <td>30</td>\n",
       "      <td>60</td>\n",
       "    </tr>\n",
       "  </tbody>\n",
       "</table>\n",
       "</div>"
      ],
      "text/plain": [
       "          NEW_NAME_11  NEW_NAME_22\n",
       "NewRow11           10           40\n",
       "NewRow22           20           50\n",
       "NewRow33           30           60"
      ]
     },
     "execution_count": 19,
     "metadata": {},
     "output_type": "execute_result"
    }
   ],
   "source": [
    "# If you want to rename multiple columns to the same name, you need to set the inplace parameter to False, as you cannot have duplicate column names in a DataFrame:\n",
    "\n",
    "# Renaming multiple columns to the same name\n",
    "df.rename(columns={'Old_Name_1': 'Common_Name', 'Old_Name_2': 'Common_Name'}, inplace=False)\n"
   ]
  },
  {
   "cell_type": "code",
   "execution_count": null,
   "id": "fde2c803",
   "metadata": {},
   "outputs": [],
   "source": []
  },
  {
   "cell_type": "code",
   "execution_count": 20,
   "id": "c04002b8",
   "metadata": {},
   "outputs": [
    {
     "data": {
      "text/html": [
       "<div>\n",
       "<style scoped>\n",
       "    .dataframe tbody tr th:only-of-type {\n",
       "        vertical-align: middle;\n",
       "    }\n",
       "\n",
       "    .dataframe tbody tr th {\n",
       "        vertical-align: top;\n",
       "    }\n",
       "\n",
       "    .dataframe thead th {\n",
       "        text-align: right;\n",
       "    }\n",
       "</style>\n",
       "<table border=\"1\" class=\"dataframe\">\n",
       "  <thead>\n",
       "    <tr style=\"text-align: right;\">\n",
       "      <th></th>\n",
       "      <th>Common_Name</th>\n",
       "      <th>NEW_NAME_22</th>\n",
       "    </tr>\n",
       "  </thead>\n",
       "  <tbody>\n",
       "    <tr>\n",
       "      <th>NewRow11</th>\n",
       "      <td>10</td>\n",
       "      <td>40</td>\n",
       "    </tr>\n",
       "    <tr>\n",
       "      <th>NewRow22</th>\n",
       "      <td>20</td>\n",
       "      <td>50</td>\n",
       "    </tr>\n",
       "    <tr>\n",
       "      <th>NewRow33</th>\n",
       "      <td>30</td>\n",
       "      <td>60</td>\n",
       "    </tr>\n",
       "  </tbody>\n",
       "</table>\n",
       "</div>"
      ],
      "text/plain": [
       "          Common_Name  NEW_NAME_22\n",
       "NewRow11           10           40\n",
       "NewRow22           20           50\n",
       "NewRow33           30           60"
      ]
     },
     "execution_count": 20,
     "metadata": {},
     "output_type": "execute_result"
    }
   ],
   "source": [
    "# If you want to rename multiple columns to the same name, you need to set the inplace parameter to False,\n",
    "# as you cannot have duplicate column names in a DataFrame:\n",
    "\n",
    "# Renaming multiple columns to the same name\n",
    "df.rename(columns={'NEW_NAME_11': 'Common_Name', 'NNEW_NAME_22': 'Common_Name'}, inplace=False)\n"
   ]
  },
  {
   "cell_type": "code",
   "execution_count": null,
   "id": "ce3c56d5",
   "metadata": {},
   "outputs": [],
   "source": []
  },
  {
   "cell_type": "code",
   "execution_count": null,
   "id": "35a2ba55",
   "metadata": {},
   "outputs": [],
   "source": []
  }
 ],
 "metadata": {
  "kernelspec": {
   "display_name": "Python 3 (ipykernel)",
   "language": "python",
   "name": "python3"
  },
  "language_info": {
   "codemirror_mode": {
    "name": "ipython",
    "version": 3
   },
   "file_extension": ".py",
   "mimetype": "text/x-python",
   "name": "python",
   "nbconvert_exporter": "python",
   "pygments_lexer": "ipython3",
   "version": "3.11.3"
  }
 },
 "nbformat": 4,
 "nbformat_minor": 5
}
