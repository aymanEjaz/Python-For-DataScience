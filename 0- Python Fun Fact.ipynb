{
 "cells": [
  {
   "cell_type": "markdown",
   "id": "a32655c2",
   "metadata": {},
   "source": [
    "# Some Facts about Python Programming"
   ]
  },
  {
   "cell_type": "markdown",
   "id": "22146bba",
   "metadata": {},
   "source": [
    "### 1. Python was a hobby project\n",
    "In December 1989, Python’s creator Guido Van Rossum was looking for a hobby project to keep him occupied in the week around Christmas. He had been thinking of writing a new scripting language that’d be a descendant of ABC and also appeal to Unix/C hackers. He chose to call it Python."
   ]
  },
  {
   "cell_type": "markdown",
   "id": "397cec4e",
   "metadata": {},
   "source": [
    "### 2. Why it was called Python\n",
    "The language’s name isn’t about snakes, but about the popular British comedy troupe Monty Python (from the 1970s). Guido himself is a big fan of Monty Python’s Flying Circus. Being in a rather irreverent mood, he named the project ‘Python’. Isn’t it an interesting Python fact?"
   ]
  },
  {
   "cell_type": "markdown",
   "id": "bb986f2b",
   "metadata": {},
   "source": [
    "### 3. The Zen of Python\n",
    "Tim Peters, a major contributor to the Python community, wrote this poem to highlight the philosophies of Python. If you type in “import this” in your Python IDLE, you’ll find this poem:"
   ]
  },
  {
   "cell_type": "code",
   "execution_count": 1,
   "id": "6a3a36ac",
   "metadata": {},
   "outputs": [
    {
     "name": "stdout",
     "output_type": "stream",
     "text": [
      "The Zen of Python, by Tim Peters\n",
      "\n",
      "Beautiful is better than ugly.\n",
      "Explicit is better than implicit.\n",
      "Simple is better than complex.\n",
      "Complex is better than complicated.\n",
      "Flat is better than nested.\n",
      "Sparse is better than dense.\n",
      "Readability counts.\n",
      "Special cases aren't special enough to break the rules.\n",
      "Although practicality beats purity.\n",
      "Errors should never pass silently.\n",
      "Unless explicitly silenced.\n",
      "In the face of ambiguity, refuse the temptation to guess.\n",
      "There should be one-- and preferably only one --obvious way to do it.\n",
      "Although that way may not be obvious at first unless you're Dutch.\n",
      "Now is better than never.\n",
      "Although never is often better than *right* now.\n",
      "If the implementation is hard to explain, it's a bad idea.\n",
      "If the implementation is easy to explain, it may be a good idea.\n",
      "Namespaces are one honking great idea -- let's do more of those!\n"
     ]
    }
   ],
   "source": [
    "import this"
   ]
  },
  {
   "cell_type": "markdown",
   "id": "145f6459",
   "metadata": {},
   "source": [
    "### 4. Flavors of Python\n",
    "Python ships in various flavors:\n",
    "\n",
    "- **CPython-** Written in C, most common implementation of Python\n",
    "- **Jython-** Written in Java, compiles to bytecode\n",
    "- **IronPython-** Implemented in C#, an extensibility layer to frameworks written in .NET\n",
    "- **Brython-** Browser Python, runs in the browser\n",
    "- **RubyPython-** Bridge between Python and Ruby interpreters\n",
    "- **PyPy-** Implemented in Python\n",
    "- **MicroPython-** Runs on a microcontroller"
   ]
  },
  {
   "cell_type": "markdown",
   "id": "7af073e1",
   "metadata": {},
   "source": [
    "### 5. Big Companies Using Python\n",
    "Many big names use (or have used) Python for their products/services. Some of these are:\n",
    "\n",
    "- NASA\n",
    "- Google\n",
    "- Nokia\n",
    "- IBM\n",
    "- Yahoo! Maps\n",
    "- Walt Disney Feature Animation\n",
    "- Facebook\n",
    "- Netflix\n",
    "- Expedia\n",
    "- Reddit\n",
    "- Quora\n",
    "- MIT\n",
    "- Disqus\n",
    "- Hike\n",
    "- Spotify\n",
    "- Udemy\n",
    "- Shutterstock\n",
    "- Uber\n",
    "- Amazon\n",
    "- Mozilla\n",
    "- Dropbox\n",
    "- Pinterest\n",
    "- Youtube\n",
    "\n",
    "#### What are you waiting for? Start learning Python now and build your career in it. "
   ]
  },
  {
   "cell_type": "markdown",
   "id": "a1c559b9",
   "metadata": {},
   "source": [
    "### 6. No braces\n",
    "Unlike Java and C++, Python does not use braces to delimit code. Indentation is mandatory with Python. If you choose to import it from the __future__ package, it gives you a witty error."
   ]
  },
  {
   "cell_type": "code",
   "execution_count": 2,
   "id": "79393255",
   "metadata": {},
   "outputs": [
    {
     "ename": "SyntaxError",
     "evalue": "not a chance (2724645263.py, line 3)",
     "output_type": "error",
     "traceback": [
      "\u001b[1;36m  Cell \u001b[1;32mIn[2], line 3\u001b[1;36m\u001b[0m\n\u001b[1;33m    from __future__ import braces\u001b[0m\n\u001b[1;37m    ^\u001b[0m\n\u001b[1;31mSyntaxError\u001b[0m\u001b[1;31m:\u001b[0m not a chance\n"
     ]
    }
   ],
   "source": [
    "#  Not a chance :')\n",
    "\n",
    "from __future__ import braces "
   ]
  },
  {
   "cell_type": "markdown",
   "id": "c191e800",
   "metadata": {},
   "source": [
    "### 7. Python supports multiple assignments in one statement\n",
    "Python will let you assign the same value to multiple variables in one statement. It will also let you assign values to multiple variables at once.\n",
    "\n",
    "This also means swapping in Python is quicker and can be done in only 1 line of code:"
   ]
  },
  {
   "cell_type": "code",
   "execution_count": 3,
   "id": "be7d32ba",
   "metadata": {},
   "outputs": [
    {
     "name": "stdout",
     "output_type": "stream",
     "text": [
      "assigning values of different datatypes\n",
      "4\n",
      "geeks\n",
      "3.14\n",
      "True\n"
     ]
    }
   ],
   "source": [
    "print(\"assigning values of different datatypes\")\n",
    "a, b, c, d = 4, \"geeks\", 3.14, True\n",
    "print(a)\n",
    "print(b)\n",
    "print(c)\n",
    "print(d)"
   ]
  },
  {
   "cell_type": "markdown",
   "id": "3f119fe3",
   "metadata": {},
   "source": [
    "### 8. With slicing, it’s easier to reverse a list\n",
    "If we slice a list of values from starting to end but with a step of -1, we get the list right to left (reversed)."
   ]
  },
  {
   "cell_type": "code",
   "execution_count": 4,
   "id": "8befa961",
   "metadata": {},
   "outputs": [
    {
     "data": {
      "text/plain": [
       "[15, 14, 13, 12, 11, 10]"
      ]
     },
     "execution_count": 4,
     "metadata": {},
     "output_type": "execute_result"
    }
   ],
   "source": [
    "# Reversing a list using slicing technique\n",
    "\n",
    "lst = [10, 11, 12, 13, 14, 15]\n",
    "lst[::-1]"
   ]
  },
  {
   "cell_type": "markdown",
   "id": "d35e4146",
   "metadata": {},
   "source": [
    "### 9. You can chain comparison\n",
    "Conditions may contain more than one comparison at once. You can have a condition that checks whether a value is greater than another and lesser than yet another all at once."
   ]
  },
  {
   "cell_type": "code",
   "execution_count": 5,
   "id": "468b14b4",
   "metadata": {},
   "outputs": [
    {
     "name": "stdout",
     "output_type": "stream",
     "text": [
      "True\n",
      "False\n",
      "True\n",
      "True\n",
      "True\n"
     ]
    }
   ],
   "source": [
    "# Python code to illustrate\n",
    "# chaining comparison operators\n",
    "x = 5\n",
    "print(1 < x < 10)\n",
    "print(10 < x < 20 )\n",
    "print(x < 10 < x*10 < 100)\n",
    "print(10 > x <= 9)\n",
    "print(5 == x > 4)"
   ]
  },
  {
   "cell_type": "markdown",
   "id": "87599c39",
   "metadata": {},
   "source": [
    "### 10. String literals concatenate together\n",
    "If you type in string literals separated by a space, Python concatenates them together. So, ‘Hello’ ‘World’ becomes ‘HelloWorld’."
   ]
  },
  {
   "cell_type": "code",
   "execution_count": 6,
   "id": "3d634740",
   "metadata": {},
   "outputs": [
    {
     "data": {
      "text/plain": [
       "'HelloWorld!'"
      ]
     },
     "execution_count": 6,
     "metadata": {},
     "output_type": "execute_result"
    }
   ],
   "source": [
    "'Hello' 'World' '!'"
   ]
  },
  {
   "cell_type": "code",
   "execution_count": 8,
   "id": "92ae5169",
   "metadata": {},
   "outputs": [],
   "source": [
    "import __hello__"
   ]
  },
  {
   "cell_type": "markdown",
   "id": "4d86a886",
   "metadata": {},
   "source": [
    "### 11. Antigravity!\n",
    "If you get to the IDLE and type in import antigravity, it opens up a webpage with a comic about the antigravity module."
   ]
  },
  {
   "cell_type": "code",
   "execution_count": 9,
   "id": "4c1ca2fb",
   "metadata": {},
   "outputs": [],
   "source": [
    "# will open the browser to a comic!\n",
    "\n",
    "import antigravity"
   ]
  },
  {
   "cell_type": "code",
   "execution_count": null,
   "id": "c2a17cf6",
   "metadata": {},
   "outputs": [],
   "source": []
  },
  {
   "cell_type": "code",
   "execution_count": null,
   "id": "dbf2199e",
   "metadata": {},
   "outputs": [],
   "source": []
  }
 ],
 "metadata": {
  "kernelspec": {
   "display_name": "Python 3 (ipykernel)",
   "language": "python",
   "name": "python3"
  },
  "language_info": {
   "codemirror_mode": {
    "name": "ipython",
    "version": 3
   },
   "file_extension": ".py",
   "mimetype": "text/x-python",
   "name": "python",
   "nbconvert_exporter": "python",
   "pygments_lexer": "ipython3",
   "version": "3.11.3"
  }
 },
 "nbformat": 4,
 "nbformat_minor": 5
}
