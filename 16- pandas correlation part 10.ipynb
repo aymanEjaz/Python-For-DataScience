{
 "cells": [
  {
   "cell_type": "markdown",
   "id": "85f5b892",
   "metadata": {},
   "source": [
    "# Correlation"
   ]
  },
  {
   "cell_type": "markdown",
   "id": "3ad8926e",
   "metadata": {},
   "source": [
    "In Pandas, correlation refers to the statistical measure that quantifies the relationship between two or more variables in a dataset. It helps to understand how changes in one variable are associated with changes in another. Pandas provides various methods to calculate and explore correlations between columns in a DataFrame. Here's all about correlation in Pandas:\n",
    "\n",
    "1. **Pearson Correlation**:\n",
    "   The Pearson correlation coefficient is a common method used to measure the linear correlation between two continuous variables. It ranges from -1 to 1, where:\n",
    "   - 1 indicates a perfect positive correlation (as one variable increases, the other increases proportionally).\n",
    "   - 0 indicates no linear correlation.\n",
    "   - -1 indicates a perfect negative correlation (as one variable increases, the other decreases proportionally).\n",
    "\n",
    "   You can calculate the Pearson correlation coefficient using the `corr()` method in Pandas:\n",
    "\n",
    "   ```python\n",
    "   # Example: Calculating Pearson correlation between columns 'A' and 'B'\n",
    "   correlation = df['A'].corr(df['B'])\n",
    "   ```\n",
    "\n",
    "2. **Spearman Correlation**:\n",
    "   The Spearman correlation coefficient assesses the monotonic relationship between two variables. It is based on the ranks of the data rather than the actual values, making it more appropriate for variables with non-linear relationships. You can calculate the Spearman correlation using the `corr()` method with the `method='spearman'` parameter:\n",
    "\n",
    "   ```python\n",
    "   # Example: Calculating Spearman correlation between columns 'A' and 'B'\n",
    "   correlation = df['A'].corr(df['B'], method='spearman')\n",
    "   ```\n",
    "\n",
    "3. **Kendall Correlation**:\n",
    "   The Kendall correlation coefficient is another rank-based method for measuring the association between two variables. It is particularly useful for assessing the correlation between ordinal data. You can calculate the Kendall correlation using the `corr()` method with the `method='kendall'` parameter:\n",
    "\n",
    "   ```python\n",
    "   # Example: Calculating Kendall correlation between columns 'A' and 'B'\n",
    "   correlation = df['A'].corr(df['B'], method='kendall')\n",
    "   ```\n",
    "\n",
    "4. **Correlation Matrix**:\n",
    "   If you want to calculate the correlation between multiple columns in a DataFrame, you can generate a correlation matrix using the `corr()` method. The result is a DataFrame where each cell contains the correlation coefficient between the corresponding columns:\n",
    "\n",
    "   ```python\n",
    "   # Example: Creating a correlation matrix for all columns in the DataFrame\n",
    "   correlation_matrix = df.corr()\n",
    "   ```\n",
    "\n",
    "5. **Heatmap Visualization**:\n",
    "   You can visualize the correlation matrix using a heatmap to quickly identify the relationships between various variables. Heatmaps are a graphical representation of the correlation matrix, with colors indicating the strength of the correlation.\n",
    "\n",
    "   ```python\n",
    "   import seaborn as sns\n",
    "   import matplotlib.pyplot as plt\n",
    "\n",
    "   # Example: Visualizing the correlation matrix with a heatmap\n",
    "   sns.heatmap(correlation_matrix, annot=True, cmap='coolwarm')\n",
    "   plt.show()\n",
    "   ```\n",
    "\n",
    "6. **Handling Missing Data**:\n",
    "   By default, the `corr()` method in Pandas ignores missing data (NaN values) while computing correlations. If you want to handle missing data differently, you can use the `min_periods` parameter to set the minimum number of non-missing data points required to calculate the correlation.\n",
    "\n",
    "   ```python\n",
    "   # Example: Handling missing data while calculating correlation\n",
    "   correlation = df['A'].corr(df['B'], min_periods=5)\n",
    "   ```\n",
    "\n",
    "Correlation analysis is essential for understanding relationships between variables in a dataset and can provide valuable insights for data exploration and modeling tasks."
   ]
  },
  {
   "cell_type": "markdown",
   "id": "02a13a3b",
   "metadata": {},
   "source": [
    "To calculate the correlation between variables in pandas, you can use the corr() function. This function returns a correlation matrix, which shows the correlation coefficients between all pairs of variables in a DataFrame."
   ]
  },
  {
   "cell_type": "code",
   "execution_count": 10,
   "id": "95c583bb",
   "metadata": {},
   "outputs": [],
   "source": [
    "import pandas as pd\n",
    "import seaborn as sns\n",
    "import matplotlib.pyplot as plt"
   ]
  },
  {
   "cell_type": "code",
   "execution_count": 1,
   "id": "12a321c8",
   "metadata": {},
   "outputs": [
    {
     "name": "stdout",
     "output_type": "stream",
     "text": [
      "     A    B    C\n",
      "A  1.0 -1.0  1.0\n",
      "B -1.0  1.0 -1.0\n",
      "C  1.0 -1.0  1.0\n"
     ]
    }
   ],
   "source": [
    "# Certainly! Here's an example of how to calculate the correlation between variables in pandas:\n",
    "\n",
    "# Create a DataFrame\n",
    "data = {'A': [1, 2, 3, 4, 5],\n",
    "        'B': [5, 4, 3, 2, 1],\n",
    "        'C': [2, 4, 6, 8, 10]}\n",
    "\n",
    "df = pd.DataFrame(data)\n",
    "\n",
    "# Calculate the correlation matrix\n",
    "correlation_matrix = df.corr()\n",
    "\n",
    "print(correlation_matrix)\n"
   ]
  },
  {
   "cell_type": "code",
   "execution_count": 2,
   "id": "c6ff70d3",
   "metadata": {},
   "outputs": [
    {
     "data": {
      "text/plain": [
       "<Axes: >"
      ]
     },
     "execution_count": 2,
     "metadata": {},
     "output_type": "execute_result"
    },
    {
     "data": {
      "image/png": "[encoded data removed]",
      "text/plain": [
       "<Figure size 640x480 with 2 Axes>"
      ]
     },
     "metadata": {},
     "output_type": "display_data"
    }
   ],
   "source": [
    "sns.heatmap(correlation_matrix)"
   ]
  },
  {
   "cell_type": "markdown",
   "id": "ab624e5d",
   "metadata": {},
   "source": [
    "In this example, we create a DataFrame with three columns (A, B, and C). We then use the corr() function to calculate the correlation matrix, which shows the correlation coefficients between all pairs of variables (A, B, and C). The output shows that each variable has a perfect negative correlation with the other two variables."
   ]
  },
  {
   "cell_type": "markdown",
   "id": "d9e15ac9",
   "metadata": {},
   "source": [
    "#### step by step"
   ]
  },
  {
   "cell_type": "code",
   "execution_count": 16,
   "id": "e7883850",
   "metadata": {},
   "outputs": [
    {
     "data": {
      "text/plain": [
       "0.9999999999999999"
      ]
     },
     "execution_count": 16,
     "metadata": {},
     "output_type": "execute_result"
    }
   ],
   "source": [
    "# Example: Calculating Spearman correlation between columns 'A' and 'B'\n",
    "correlation = df['C'].corr(df['A'], method='spearman')\n",
    "correlation"
   ]
  },
  {
   "cell_type": "code",
   "execution_count": 6,
   "id": "4d6e0fba",
   "metadata": {},
   "outputs": [
    {
     "data": {
      "text/plain": [
       "-0.9999999999999999"
      ]
     },
     "execution_count": 6,
     "metadata": {},
     "output_type": "execute_result"
    }
   ],
   "source": [
    "# Example: Calculating Pearson correlation between columns 'A' and 'B'\n",
    "correlation = df['A'].corr(df['B'])\n",
    "correlation"
   ]
  },
  {
   "cell_type": "code",
   "execution_count": 7,
   "id": "1a1ebc71",
   "metadata": {},
   "outputs": [
    {
     "data": {
      "text/plain": [
       "-0.9999999999999999"
      ]
     },
     "execution_count": 7,
     "metadata": {},
     "output_type": "execute_result"
    }
   ],
   "source": [
    "# Example: Calculating Kendall correlation between columns 'A' and 'B'\n",
    "correlation = df['A'].corr(df['B'], method='kendall')\n",
    "correlation"
   ]
  },
  {
   "cell_type": "code",
   "execution_count": 8,
   "id": "8b89cd9a",
   "metadata": {},
   "outputs": [
    {
     "data": {
      "text/html": [
       "<div>\n",
       "<style scoped>\n",
       "    .dataframe tbody tr th:only-of-type {\n",
       "        vertical-align: middle;\n",
       "    }\n",
       "\n",
       "    .dataframe tbody tr th {\n",
       "        vertical-align: top;\n",
       "    }\n",
       "\n",
       "    .dataframe thead th {\n",
       "        text-align: right;\n",
       "    }\n",
       "</style>\n",
       "<table border=\"1\" class=\"dataframe\">\n",
       "  <thead>\n",
       "    <tr style=\"text-align: right;\">\n",
       "      <th></th>\n",
       "      <th>A</th>\n",
       "      <th>B</th>\n",
       "      <th>C</th>\n",
       "    </tr>\n",
       "  </thead>\n",
       "  <tbody>\n",
       "    <tr>\n",
       "      <th>A</th>\n",
       "      <td>1.0</td>\n",
       "      <td>-1.0</td>\n",
       "      <td>1.0</td>\n",
       "    </tr>\n",
       "    <tr>\n",
       "      <th>B</th>\n",
       "      <td>-1.0</td>\n",
       "      <td>1.0</td>\n",
       "      <td>-1.0</td>\n",
       "    </tr>\n",
       "    <tr>\n",
       "      <th>C</th>\n",
       "      <td>1.0</td>\n",
       "      <td>-1.0</td>\n",
       "      <td>1.0</td>\n",
       "    </tr>\n",
       "  </tbody>\n",
       "</table>\n",
       "</div>"
      ],
      "text/plain": [
       "     A    B    C\n",
       "A  1.0 -1.0  1.0\n",
       "B -1.0  1.0 -1.0\n",
       "C  1.0 -1.0  1.0"
      ]
     },
     "execution_count": 8,
     "metadata": {},
     "output_type": "execute_result"
    }
   ],
   "source": [
    "# Example: Creating a correlation matrix for all columns in the DataFrame\n",
    "correlation_matrix = df.corr()\n",
    "correlation_matrix"
   ]
  },
  {
   "cell_type": "code",
   "execution_count": 11,
   "id": "0b4873c1",
   "metadata": {},
   "outputs": [
    {
     "data": {
      "image/png": "[encoded data removed]",
      "text/plain": [
       "<Figure size 640x480 with 2 Axes>"
      ]
     },
     "metadata": {},
     "output_type": "display_data"
    }
   ],
   "source": [
    "# Example: Visualizing the correlation matrix with a heatmap\n",
    "sns.heatmap(correlation_matrix, annot=True, cmap='coolwarm')\n",
    "plt.show()"
   ]
  },
  {
   "cell_type": "code",
   "execution_count": 14,
   "id": "0c20ad5c",
   "metadata": {},
   "outputs": [
    {
     "data": {
      "text/plain": [
       "0.9999999999999999"
      ]
     },
     "execution_count": 14,
     "metadata": {},
     "output_type": "execute_result"
    }
   ],
   "source": [
    "# Example: Handling missing data while calculating correlation\n",
    "correlation = df['A'].corr(df['C'], min_periods=5)\n",
    "correlation"
   ]
  },
  {
   "cell_type": "markdown",
   "id": "4cac7aec",
   "metadata": {},
   "source": [
    "## Another Example\n",
    "\n",
    "Certainly! Let's consider a solid example using a dataset that contains information about students, including their scores in different subjects. We will use Pandas to calculate and visualize the correlation between the subjects to see if there are any strong relationships between them.\n",
    "\n",
    "Assuming you have a CSV file named \"student_scores.csv\" with the following data:\n",
    "\n",
    "```\n",
    "Student_ID,Math_Score,Physics_Score,Chemistry_Score,Biology_Score\n",
    "1,85,78,90,88\n",
    "2,90,85,80,92\n",
    "3,78,92,85,80\n",
    "4,88,80,82,85\n",
    "5,92,78,85,88\n",
    "```\n",
    "\n",
    "We'll read this data into a Pandas DataFrame and then calculate the correlation matrix between the subjects. Finally, we'll visualize the correlation matrix using a heatmap.\n",
    "\n",
    "```python\n",
    "import pandas as pd\n",
    "import seaborn as sns\n",
    "import matplotlib.pyplot as plt\n",
    "\n",
    "# Read the data into a DataFrame\n",
    "df = pd.read_csv('student_scores.csv')\n",
    "\n",
    "# Calculate the correlation matrix\n",
    "correlation_matrix = df.corr()\n",
    "\n",
    "# Visualize the correlation matrix with a heatmap\n",
    "sns.heatmap(correlation_matrix, annot=True, cmap='coolwarm', fmt='.2f')\n",
    "plt.title('Correlation Matrix of Student Scores')\n",
    "plt.show()\n",
    "```\n",
    "\n",
    "In this example, the correlation matrix will display the Pearson correlation coefficients between the subjects (Math_Score, Physics_Score, Chemistry_Score, and Biology_Score). The heatmap will use colors to represent the strength and direction of the correlations, ranging from blue (negative correlation) to red (positive correlation).\n",
    "\n",
    "After running the code, you will get a heatmap visualizing the correlation between the subjects. It will help you identify any strong relationships between the scores in different subjects. For instance, if you observe a strong positive correlation between Math_Score and Physics_Score, it suggests that students who perform well in Math also tend to perform well in Physics. Similarly, a negative correlation between two subjects indicates an inverse relationship between their scores.\n",
    "\n",
    "Correlation analysis like this can be useful in education to understand how student performance in one subject might be related to their performance in other subjects, aiding educators in providing targeted support and improving teaching strategies.\n"
   ]
  },
  {
   "cell_type": "code",
   "execution_count": 18,
   "id": "0d2b398b",
   "metadata": {},
   "outputs": [
    {
     "data": {
      "text/html": [
       "<div>\n",
       "<style scoped>\n",
       "    .dataframe tbody tr th:only-of-type {\n",
       "        vertical-align: middle;\n",
       "    }\n",
       "\n",
       "    .dataframe tbody tr th {\n",
       "        vertical-align: top;\n",
       "    }\n",
       "\n",
       "    .dataframe thead th {\n",
       "        text-align: right;\n",
       "    }\n",
       "</style>\n",
       "<table border=\"1\" class=\"dataframe\">\n",
       "  <thead>\n",
       "    <tr style=\"text-align: right;\">\n",
       "      <th></th>\n",
       "      <th>Student_ID</th>\n",
       "      <th>Math_Score</th>\n",
       "      <th>Physics_Score</th>\n",
       "      <th>Chemistry_Score</th>\n",
       "      <th>Biology_Score</th>\n",
       "    </tr>\n",
       "  </thead>\n",
       "  <tbody>\n",
       "    <tr>\n",
       "      <th>0</th>\n",
       "      <td>1</td>\n",
       "      <td>85</td>\n",
       "      <td>78</td>\n",
       "      <td>90</td>\n",
       "      <td>88</td>\n",
       "    </tr>\n",
       "    <tr>\n",
       "      <th>1</th>\n",
       "      <td>2</td>\n",
       "      <td>90</td>\n",
       "      <td>85</td>\n",
       "      <td>80</td>\n",
       "      <td>92</td>\n",
       "    </tr>\n",
       "    <tr>\n",
       "      <th>2</th>\n",
       "      <td>3</td>\n",
       "      <td>78</td>\n",
       "      <td>92</td>\n",
       "      <td>85</td>\n",
       "      <td>80</td>\n",
       "    </tr>\n",
       "    <tr>\n",
       "      <th>3</th>\n",
       "      <td>4</td>\n",
       "      <td>88</td>\n",
       "      <td>80</td>\n",
       "      <td>82</td>\n",
       "      <td>85</td>\n",
       "    </tr>\n",
       "    <tr>\n",
       "      <th>4</th>\n",
       "      <td>5</td>\n",
       "      <td>92</td>\n",
       "      <td>78</td>\n",
       "      <td>85</td>\n",
       "      <td>88</td>\n",
       "    </tr>\n",
       "  </tbody>\n",
       "</table>\n",
       "</div>"
      ],
      "text/plain": [
       "   Student_ID  Math_Score  Physics_Score  Chemistry_Score  Biology_Score\n",
       "0           1          85             78               90             88\n",
       "1           2          90             85               80             92\n",
       "2           3          78             92               85             80\n",
       "3           4          88             80               82             85\n",
       "4           5          92             78               85             88"
      ]
     },
     "execution_count": 18,
     "metadata": {},
     "output_type": "execute_result"
    }
   ],
   "source": [
    "# Data in dictionary format\n",
    "data = {\n",
    "    'Student_ID': [1, 2, 3, 4, 5],\n",
    "    'Math_Score': [85, 90, 78, 88, 92],\n",
    "    'Physics_Score': [78, 85, 92, 80, 78],\n",
    "    'Chemistry_Score': [90, 80, 85, 82, 85],\n",
    "    'Biology_Score': [88, 92, 80, 85, 88]\n",
    "}\n",
    "\n",
    "# Create the DataFrame\n",
    "df = pd.DataFrame(data)\n",
    "\n",
    "# Display the DataFrame\n",
    "df"
   ]
  },
  {
   "cell_type": "code",
   "execution_count": 19,
   "id": "d083dbc9",
   "metadata": {},
   "outputs": [],
   "source": [
    "# Calculate the correlation matrix\n",
    "correlation_matrix = df.corr()"
   ]
  },
  {
   "cell_type": "code",
   "execution_count": 20,
   "id": "ae9a1e91",
   "metadata": {},
   "outputs": [
    {
     "data": {
      "text/html": [
       "<div>\n",
       "<style scoped>\n",
       "    .dataframe tbody tr th:only-of-type {\n",
       "        vertical-align: middle;\n",
       "    }\n",
       "\n",
       "    .dataframe tbody tr th {\n",
       "        vertical-align: top;\n",
       "    }\n",
       "\n",
       "    .dataframe thead th {\n",
       "        text-align: right;\n",
       "    }\n",
       "</style>\n",
       "<table border=\"1\" class=\"dataframe\">\n",
       "  <thead>\n",
       "    <tr style=\"text-align: right;\">\n",
       "      <th></th>\n",
       "      <th>Student_ID</th>\n",
       "      <th>Math_Score</th>\n",
       "      <th>Physics_Score</th>\n",
       "      <th>Chemistry_Score</th>\n",
       "      <th>Biology_Score</th>\n",
       "    </tr>\n",
       "  </thead>\n",
       "  <tbody>\n",
       "    <tr>\n",
       "      <th>Student_ID</th>\n",
       "      <td>1.000000</td>\n",
       "      <td>0.347571</td>\n",
       "      <td>-0.132129</td>\n",
       "      <td>-0.334497</td>\n",
       "      <td>-0.248734</td>\n",
       "    </tr>\n",
       "    <tr>\n",
       "      <th>Math_Score</th>\n",
       "      <td>0.347571</td>\n",
       "      <td>1.000000</td>\n",
       "      <td>-0.717948</td>\n",
       "      <td>-0.353628</td>\n",
       "      <td>0.804833</td>\n",
       "    </tr>\n",
       "    <tr>\n",
       "      <th>Physics_Score</th>\n",
       "      <td>-0.132129</td>\n",
       "      <td>-0.717948</td>\n",
       "      <td>1.000000</td>\n",
       "      <td>-0.300538</td>\n",
       "      <td>-0.542742</td>\n",
       "    </tr>\n",
       "    <tr>\n",
       "      <th>Chemistry_Score</th>\n",
       "      <td>-0.334497</td>\n",
       "      <td>-0.353628</td>\n",
       "      <td>-0.300538</td>\n",
       "      <td>1.000000</td>\n",
       "      <td>-0.225831</td>\n",
       "    </tr>\n",
       "    <tr>\n",
       "      <th>Biology_Score</th>\n",
       "      <td>-0.248734</td>\n",
       "      <td>0.804833</td>\n",
       "      <td>-0.542742</td>\n",
       "      <td>-0.225831</td>\n",
       "      <td>1.000000</td>\n",
       "    </tr>\n",
       "  </tbody>\n",
       "</table>\n",
       "</div>"
      ],
      "text/plain": [
       "                 Student_ID  Math_Score  Physics_Score  Chemistry_Score   \n",
       "Student_ID         1.000000    0.347571      -0.132129        -0.334497  \\\n",
       "Math_Score         0.347571    1.000000      -0.717948        -0.353628   \n",
       "Physics_Score     -0.132129   -0.717948       1.000000        -0.300538   \n",
       "Chemistry_Score   -0.334497   -0.353628      -0.300538         1.000000   \n",
       "Biology_Score     -0.248734    0.804833      -0.542742        -0.225831   \n",
       "\n",
       "                 Biology_Score  \n",
       "Student_ID           -0.248734  \n",
       "Math_Score            0.804833  \n",
       "Physics_Score        -0.542742  \n",
       "Chemistry_Score      -0.225831  \n",
       "Biology_Score         1.000000  "
      ]
     },
     "execution_count": 20,
     "metadata": {},
     "output_type": "execute_result"
    }
   ],
   "source": [
    "correlation_matrix"
   ]
  },
  {
   "cell_type": "code",
   "execution_count": 21,
   "id": "8a147ead",
   "metadata": {},
   "outputs": [
    {
     "data": {
      "image/png": "[encoded data removed]",
      "text/plain": [
       "<Figure size 640x480 with 2 Axes>"
      ]
     },
     "metadata": {},
     "output_type": "display_data"
    }
   ],
   "source": [
    "# Visualize the correlation matrix with a heatmap\n",
    "sns.heatmap(correlation_matrix, annot=True, cmap='coolwarm', fmt='.2f')\n",
    "plt.title('Correlation Matrix of Student Scores')\n",
    "plt.show()"
   ]
  },
  {
   "cell_type": "code",
   "execution_count": null,
   "id": "a777449a",
   "metadata": {},
   "outputs": [],
   "source": []
  },
  {
   "cell_type": "code",
   "execution_count": null,
   "id": "e82a5a78",
   "metadata": {},
   "outputs": [],
   "source": []
  },
  {
   "cell_type": "code",
   "execution_count": null,
   "id": "7b003060",
   "metadata": {},
   "outputs": [],
   "source": []
  }
 ],
 "metadata": {
  "kernelspec": {
   "display_name": "Python 3 (ipykernel)",
   "language": "python",
   "name": "python3"
  },
  "language_info": {
   "codemirror_mode": {
    "name": "ipython",
    "version": 3
   },
   "file_extension": ".py",
   "mimetype": "text/x-python",
   "name": "python",
   "nbconvert_exporter": "python",
   "pygments_lexer": "ipython3",
   "version": "3.11.3"
  }
 },
 "nbformat": 4,
 "nbformat_minor": 5
}
